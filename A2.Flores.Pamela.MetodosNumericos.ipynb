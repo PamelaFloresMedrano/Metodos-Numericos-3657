{
 "cells": [
  {
   "cell_type": "markdown",
   "id": "75c09d74",
   "metadata": {},
   "source": [
    "## <center>Universidad de las Fuerzas Armadas ESPE</center>\n",
    "\n",
    "\n",
    "## <center>Actividad de Aprendizaje 2</center>\n",
    "\n",
    "**Apellidos:** Flores Medrano\n",
    "\n",
    "**Nombres:** Pamela Lissette\n",
    "\n",
    "**Asignatura:** Métodos Numéricos\n",
    "\n",
    "**NRC:** 3657\n",
    "\n",
    "### Ejercicios\n"
   ]
  },
  {
   "cell_type": "markdown",
   "id": "11635856",
   "metadata": {},
   "source": [
    "**1. Utilice todos los métodos estudiados (Newton, Bisección y Secante) para encontrar la raíz de la siguiente función: f(x) = x + cos x en el intervalo [−2, 0], con cuatro cifras decimales.**"
   ]
  },
  {
   "cell_type": "code",
   "execution_count": 42,
   "id": "7afdc4ee",
   "metadata": {},
   "outputs": [
    {
     "data": {
      "image/png": "[encoded data removed]",
      "text/plain": [
       "<Figure size 432x288 with 1 Axes>"
      ]
     },
     "metadata": {
      "needs_background": "light"
     },
     "output_type": "display_data"
    }
   ],
   "source": [
    "import numpy as np\n",
    "import matplotlib.pyplot as plt\n",
    "\n",
    "x=np.arange(-5,5,0.1)\n",
    "y=x+np.cos(x)\n",
    "\n",
    "fig, ax = plt.subplots()\n",
    "ax.plot(x,y)\n",
    "ax.set_title('Gráfico de función f(x)')\n",
    "\n",
    "# Codigo para mostrar ejes de coordenadas dentro del gráfico creado\n",
    "xmin, xmax = ax.get_xlim()\n",
    "ymin, ymax = ax.get_ylim()\n",
    "\n",
    "ax.grid(True, linestyle='-')\n",
    "ax.annotate(\"\",xy=(xmax, 0), xytext=(xmin, 0), \n",
    "            arrowprops=dict(color='black',width=1.5, headwidth=8, headlength=10))\n",
    "ax.annotate(\"\",xy=(0, ymax), xytext=(0, ymin), \n",
    "            arrowprops=dict(color='black',width=1.5, headwidth=8, headlength=10))\n",
    "plt.show()"
   ]
  },
  {
   "cell_type": "markdown",
   "id": "f254f09c",
   "metadata": {},
   "source": [
    "### Método de Newton"
   ]
  },
  {
   "cell_type": "markdown",
   "id": "b65e0722",
   "metadata": {},
   "source": [
    "$x_{n+1}=x_n-\\frac{f\\left(x_n\\right)}{f'\\left(x_n\\right)},\\:f'\\left(x_n\\right)\\:diferente\\:de\\:0$"
   ]
  },
  {
   "cell_type": "markdown",
   "id": "614afd80",
   "metadata": {},
   "source": [
    "**- Resolución**\n",
    "\n",
    "Sea:\n",
    "\n",
    "$f(x)= x+cos(x)$\n",
    "\n",
    "$f'(x)= 1-sen(x)$\n",
    "\n",
    "Se deduce que la segunda aproximación está dada por : $x_2=x_1-\\frac{x+cos\\left(x\\right)}{1-sen\\left(x\\right)}$  $(1)$\n",
    "\n",
    "Por lo tanto tenemos que:\n",
    "\n",
    "Basándonos en la gráfica de f(x), escogemos a $x_1=-2.0000$\n",
    "\n",
    "**Reemplazamos $x_1$ en f(x) y f'(x):**\n",
    "\n",
    "$f(-2.0000)= x+cos(x)$\n",
    "\n",
    "$f(-2.0000)= -1.00061$\n",
    "\n",
    "$f'(-2.0000)= 1-sen(x)$\n",
    "\n",
    "$f'(-2.0000)= 1.03490$\n",
    "\n",
    "Sustituyendo en (1):\n",
    "\n",
    "$x_2=-2.0000-\\frac{-1.00061}{1.03490}$\n",
    "\n",
    "$x_2=-1.03313$\n",
    "\n",
    "**Para este nuevo valor de x, tenemos:**\n",
    "\n",
    "$f(-1.03313)= -0.03329$\n",
    "\n",
    "$f'(-1.03313)= 1.01803$\n",
    "\n",
    "De tal manera que:\n",
    "\n",
    "$x_3=-1.03313-\\frac{-0.03329}{1.01803}$\n",
    "\n",
    "$x_3= -1.00042$\n",
    "\n",
    "**Para este nuevo valor de x, tenemos:**\n",
    "\n",
    "$f(-1.00042)= -0.00057$\n",
    "\n",
    "$f'(-1.00042)= 1.01746$\n",
    "\n",
    "De tal manera que:\n",
    "\n",
    "$x_4=-1.00042-\\frac{-0.00057}{1.01746}$\n",
    "\n",
    "$x_4= -0.99985$\n",
    "\n",
    "**Para este nuevo valor de x, tenemos:**\n",
    "\n",
    "$f(-0.99985)= -0.000002$\n",
    "\n",
    "$f'(-0.99985)= 1.01745$\n",
    "\n",
    "De tal manera que:\n",
    "\n",
    "$x_5=-0.99985-\\frac{-0.000002}{1.01745}$\n",
    "\n",
    "$x_5= -0.99984$\n",
    "\n",
    "**Para este nuevo valor de x, tenemos:**\n",
    "\n",
    "$f(-0.99984)= -0.000008$\n",
    "\n",
    "$f'(-0.99984)= 1.01745$\n",
    "\n",
    "De tal manera que:\n",
    "\n",
    "$x_6=-0.99984-\\frac{-0.000008}{1.01745}$\n",
    "\n",
    "$x_6= -0.99983$\n"
   ]
  },
  {
   "cell_type": "markdown",
   "id": "6b8946bc",
   "metadata": {},
   "source": [
    "> **Respuesta:** Comparando $x_4,x_5,x_6$ el valor de la raíz redondeada a 4 decimales es -0.9998"
   ]
  },
  {
   "cell_type": "markdown",
   "id": "4d86bf2c",
   "metadata": {},
   "source": [
    "### Método de Bisección"
   ]
  },
  {
   "cell_type": "markdown",
   "id": "97aeb295",
   "metadata": {},
   "source": [
    "**- Resolución**\n",
    "\n",
    "Sea:\n",
    "\n",
    "$f(x)= x+cos(x)$\n",
    "\n",
    "Tomamos el intervalo de referencia para encontrar la raíz:\n",
    "\n",
    "$f(-1)= -2+cos(-2) = -1.0006$\n",
    "\n",
    "$f(0)= 0+cos(0) = 1$\n",
    "\n",
    "Sabiendo que: $x_n\\:=\\:\\frac{a+b}{2}$\n",
    "\n",
    "**- ITERACIÓN 1 con límite de (-2,0)**\n",
    "\n",
    "$x_1\\:=\\:\\frac{-2+0}{2}=-1$\n",
    "\n",
    "Por lo tanto, tenemos que:\n",
    "\n",
    "$f(-1)= -1+cos(-1) = -0.00015$\n",
    "\n",
    "**- ITERACIÓN 2 con límite de (-2,-1)**\n",
    "\n",
    "$x_2\\:=\\:\\frac{-2-1}{2}=-1.5$\n",
    "\n",
    "Por lo tanto, tenemos que:\n",
    "\n",
    "$f(-1.5)= -1.5+cos(-1.5) = -0.50034$\n",
    "\n",
    "**- ITERACIÓN 3 con límite de (-2,-1.5)**\n",
    "\n",
    "$x_3\\:=\\:\\frac{-2-1.5}{2}=-1.75$\n",
    "\n",
    "Por lo tanto, tenemos que:\n",
    "\n",
    "$f(-1.75)= -1.75+cos(-1.75) = -0.75047$\n",
    "\n",
    "**- ITERACIÓN 4 con límite de (-2,-1.75)**\n",
    "\n",
    "$x_4\\:=\\:\\frac{-2-1.75}{2}=-1.875$\n",
    "\n",
    "Por lo tanto, tenemos que:\n",
    "\n",
    "$f(-1.875)= -1.875+cos(-1.875) = -0.87554$\n",
    "\n",
    "**- ITERACIÓN 5 con límite de (-2,-1.875)**\n",
    "\n",
    "$x_5\\:=\\:\\frac{-2-1.875}{2}=-1.9375$\n",
    "\n",
    "Por lo tanto, tenemos que:\n",
    "\n",
    "$f(-1.9375)= -1.9375+cos(-1.9375) = -0.93807$\n",
    "\n",
    "**Condición de parada:**\n",
    "\n",
    "$\\left|x_5-x_4\\right|=|-1.9375-(-1.875)|= 0.00625<0.1$\n",
    "\n",
    "Por lo tanto la raíz aproximada es: - 0.93807\n"
   ]
  },
  {
   "cell_type": "markdown",
   "id": "6a31dcce",
   "metadata": {},
   "source": [
    "> **Respuesta:**  El valor de la raíz redondeada a 4 decimales es -0.9381"
   ]
  },
  {
   "cell_type": "markdown",
   "id": "ad81a830",
   "metadata": {},
   "source": [
    "### Método de la Secante"
   ]
  },
  {
   "cell_type": "markdown",
   "id": "352c8361",
   "metadata": {},
   "source": [
    "**- Resolución**\n",
    "\n",
    "Sea:\n",
    "\n",
    "$f(x)= x+cos(x)$\n",
    "\n",
    "**Dada su raíz en el intervalo $[-2,0]$, tenemos que:**\n",
    "\n",
    "$x_0=-2$ , $x_1=0$ \n",
    "\n",
    "Sustituimos los valores:\n",
    "\n",
    "$f(x_0)=-2+cos(-2)=-1.00061$\n",
    "\n",
    "$f(x_1)=0+cos(0)=1$\n",
    "\n",
    "**Sustituimos en la fórmula de la secante para calcular la aproximación de la raíz $x_2$:**\n",
    "\n",
    "$x_2=x_1-\\left[\\frac{f\\left(x_1\\right)\\left(x_0-x_1\\right)}{f\\left(x_0\\right)-f\\left(x_1\\right)}\\right]$\n",
    "\n",
    "$x_2=0-\\left[\\frac{1\\left(-2-0\\right)}{-1.00061-1}\\right]$\n",
    "\n",
    "$x_2= -0.99969$\n",
    "\n",
    "Para este nuevo valor de x, tenemos que:\n",
    "\n",
    "$x_1=0$ , $x_2= -0.99969$ \n",
    "\n",
    "Sustituimos los valores:\n",
    "\n",
    "$f(x_1)= 0+cos(0)=1$\n",
    "\n",
    "$f(x_2)= -0.99969+cos(-0.99969)= 0.00016$\n",
    "\n",
    "**Sustituimos en la fórmula de la secante para calcular la aproximación de la raíz $x_3$:**\n",
    "\n",
    "$x_3=-0.99969-\\left[\\frac{\\left(0.00016\\right)\\left(0-\\left(-0.99969\\right)\\right)}{1-0.00016}\\right]$\n",
    "\n",
    "$x_3= -0.99984$\n",
    "\n",
    "Condición de parada: \n",
    "\n",
    "$\\left|x_3-x_2\\right|=|-0.99984-(-0.99969)|= 0.00015<0.1$\n",
    "\n",
    "Por lo tanto la aproximación a la raíz es: $x_3= -0.99984$\n"
   ]
  },
  {
   "cell_type": "markdown",
   "id": "2efe74be",
   "metadata": {},
   "source": [
    "> **Respuesta:** El valor de la raíz redondeada a 4 decimales es -0.9998"
   ]
  },
  {
   "cell_type": "markdown",
   "id": "61fdfc2c",
   "metadata": {},
   "source": [
    "Nota: Todos los cálculos fueron redondeados a 4 o 5 decimales."
   ]
  },
  {
   "cell_type": "markdown",
   "id": "1622a4c4",
   "metadata": {},
   "source": [
    "**2. Encuentre la intersección de las siguientes funciones: f(x) = 3 − x y g(x) = ln x, con tres cifras decimales.**"
   ]
  },
  {
   "cell_type": "markdown",
   "id": "db9592a0",
   "metadata": {},
   "source": [
    "Para encontrar la intersección de las funciones utilizaré el método de Newton.\n",
    "El valor inicial es $x_0=2$ basándonos en el gráfico.\n",
    "\n",
    "**- Resolución:**\n",
    "\n",
    "Para encontrar el punto de intersección igualamos las ecuaciones y las resolvemos:\n",
    "\n",
    "3-x=ln(x) \n",
    "\n",
    "x+ln(x)-3=0\n",
    "\n",
    "**Definimos a $h(x)= x+ln(x)-3$ y encontramos el cero de h por Newton.**\n",
    "\n",
    "$x_{n+1}=x_n-\\frac{h\\left(x_n\\right)}{h'\\left(x_n\\right)}=x_n-\\frac{x+ln\\left(x\\right)-3}{1+\\frac{1}{x}}$\n",
    "\n",
    "**- Iteración 1 con $x_0=2$**\n",
    "\n",
    "$x_1=x_0-\\frac{x_0+ln\\left(x_0\\right)-3}{1+\\frac{1}{x_0}}$\n",
    "\n",
    "$x_1=2-\\frac{2+ln\\left(2\\right)-3}{1+\\frac{1}{2}}$\n",
    "\n",
    "$x_1= 2.20456$\n"
   ]
  },
  {
   "cell_type": "markdown",
   "id": "211394d7",
   "metadata": {},
   "source": [
    "> **Respuesta:** El valor del punto de intersección redondeado a 3 decimales es 2.205"
   ]
  },
  {
   "cell_type": "markdown",
   "id": "fd57b392",
   "metadata": {},
   "source": [
    "**3. Programe el método de sustitución regresiva. Analice el número de operaciones del algoritmo para matrices de tamaño 3 × 3.**"
   ]
  },
  {
   "cell_type": "code",
   "execution_count": 221,
   "id": "893ef682",
   "metadata": {},
   "outputs": [
    {
     "name": "stdout",
     "output_type": "stream",
     "text": [
      "[-55. -14.   6.]\n"
     ]
    }
   ],
   "source": [
    "import numpy as np\n",
    "\n",
    "#Matriz triangular superior\n",
    "A=np.array([[1,-2,5],\n",
    "            [0,1,3],\n",
    "            [0,0,1]])\n",
    "B=np.array([3,\n",
    "            4,\n",
    "            6])\n",
    "\n",
    "#Función para medir el número de incógnitas\n",
    "N=len(A)\n",
    "#Definimos con ceros\n",
    "x=np.zeros(N)\n",
    "\n",
    "#Utilizamos un ciclo for en reversa para el método de sustitución regresiva\n",
    "for i in reversed(range(N)):\n",
    "    #Eliminamos los términos de la derecha de la diagonal\n",
    "    suma=np.sum(A[i][i+1:]*x[i+1:])\n",
    "    #Los términos les restamos al vector B\n",
    "    x[i]=B[i]-suma\n",
    "\n",
    "print(x)"
   ]
  },
  {
   "cell_type": "markdown",
   "id": "cc192fc6",
   "metadata": {},
   "source": [
    "**- Análisis**\n",
    "\n",
    "Algoritmo del método de sustitución regresiva\n",
    "\n",
    "$x_i=\\frac{b_i-\\sum _{j=i+1}^n\\:u_{ij}x_j}{u_{ii}}$ , $para\\:i\\:\\in \\left[1,\\:n-1\\right]$\n",
    "\n",
    "En la matriz 3x3 dada:\n",
    "\n",
    "$x_1-2x_2+5x_3=3$\n",
    "\n",
    "$x_2+3x_3=4$\n",
    "\n",
    "$x_3=6$\n",
    "\n",
    "- $x_3=\\frac{6}{1}=6$\n",
    "\n",
    "- $x_2=\\frac{4-3x_3}{1}=-14$\n",
    "\n",
    "- $x_1=\\frac{3+2x_2-5x_3}{1}=-55$\n",
    "\n",
    "> **Respuesta:** El número de operaciones que realiza es $2n$. En la matriz 3x3 realiza entonces 6 operaciones."
   ]
  },
  {
   "cell_type": "markdown",
   "id": "0cfeaf09",
   "metadata": {},
   "source": [
    "**4. Una importante parte de la física es la termodinámica que es el estudio de la transferencia de calor. En este ejercicio vamos a determinar la distribución de temperatura de estado estable de una placa delgada cuando se conoce la temperatura en los bordes.**\n",
    "\n",
    "**Suponga que la placa que se ilustra en la figura representa una sección transversal de una viga de metal, con flujo de calor despreciable en la dirección perpendicular a la placa. Sean T1, T2, T3 y T4 las temperaturas en los cuatro nodos interiores de la malla en la figura. La temperatura en un\n",
    "nodo es aproximadamente igual al promedio de las temperaturas de los cuatro nodos más cercanos, esto es, a la izquierda, arriba, a la derecha y abajo.**\n"
   ]
  },
  {
   "attachments": {
    "temperatura.png": {
     "image/png": "[encoded data removed]"
    }
   },
   "cell_type": "markdown",
   "id": "aed6a2a4",
   "metadata": {},
   "source": [
    "![temperatura.png](attachment:temperatura.png)"
   ]
  },
  {
   "cell_type": "markdown",
   "id": "0e3e396e",
   "metadata": {},
   "source": [
    "**Escriba un sistema de ecuaciones cuya solución de estimaciones de las temperaturas T1, T2, T3 y T4.**"
   ]
  },
  {
   "cell_type": "markdown",
   "id": "09e7b9ef",
   "metadata": {},
   "source": [
    "- Sistema de Ecuaciones\n",
    "\n",
    "$4T_1 -T_2-T_3+0T_4=30$\n",
    "\n",
    "$-T_1+4T_2+0T_3-T_4=60$\n",
    "\n",
    "$-T_1+0T_2+4T_3-T_4=40$\n",
    "\n",
    "$0T_1-T_2-T_3+4T_4=70$\n",
    "\n",
    "- Matriz aumentada\n",
    "\n",
    "$$\\left(\\begin{array}{cccc} {4} & {-1} & {-1} & {0}  &  \\mbox{|}\\  30 \\\\ -1 & {4} & {0} & {-1} & \\mbox{|}\\ 60\\\\ -1 & 0 & 4 & -1 & \\mbox{|}\\ 40 \\\\ 0 & -1 & -1 & 4  & \\mbox{|}\\ 70 \\end{array}\\right)$$"
   ]
  },
  {
   "cell_type": "markdown",
   "id": "5d7d7fd0",
   "metadata": {},
   "source": [
    "**Programe el método de eliminación gaussiana y halle el valor de estas temperaturas. Utilice como apoyo el ejercicio del literal anterior.**"
   ]
  },
  {
   "cell_type": "code",
   "execution_count": 445,
   "id": "8a8346fc",
   "metadata": {},
   "outputs": [
    {
     "name": "stdout",
     "output_type": "stream",
     "text": [
      "[[ 4.   -1.   -1.    0.  ]\n",
      " [ 0.    3.75 -0.25 -1.  ]\n",
      " [ 0.   -0.25  3.75 -1.  ]\n",
      " [ 0.   -1.   -1.    4.  ]] [30.  67.5 47.5 70. ]\n",
      "[[ 4.         -1.         -1.          0.        ]\n",
      " [ 0.          3.75       -0.25       -1.        ]\n",
      " [ 0.          0.          3.73333333 -1.06666667]\n",
      " [ 0.          0.         -1.06666667  3.73333333]] [30.  67.5 52.  88. ]\n",
      "[[ 4.         -1.         -1.          0.        ]\n",
      " [ 0.          3.75       -0.25       -1.        ]\n",
      " [ 0.          0.          3.73333333 -1.06666667]\n",
      " [ 0.          0.          0.          3.42857143]] [ 30.          67.5         52.         102.85714286]\n",
      "Resultado por Eliminación Gaussiana:  [20.  27.5 22.5 30. ]\n"
     ]
    }
   ],
   "source": [
    "import numpy as np\n",
    "\n",
    "def elim_gauss(A, b):\n",
    "    #Función para medir el número de incógnitas\n",
    "    N = len(A)\n",
    "    #Definimos con ceros\n",
    "    x = np.zeros(N)\n",
    "    for k in range(N-1):\n",
    "        for i in range(k+1, N):\n",
    "            b[i] -= b[k] * (A[i, k]/A[k, k])\n",
    "            A[i] -= A[k] * (A[i, k]/A[k, k])\n",
    "        print(A,b)\n",
    "    x[N-1] = b[N-1]/A[N-1, N-1]\n",
    "    #Utilizamos un ciclo for en reversa para el método de sustitución regresiva\n",
    "    for i in reversed(range(N)):\n",
    "        x[i] = (b[i] - sum(A[i, i+1:]*x[i+1:]))/A[i, i]\n",
    "    return x\n",
    "\n",
    "#Matriz dada\n",
    "A= np.array([[4,-1,-1,0],\n",
    "              [-1,4,0,-1],\n",
    "              [-1,0,4,-1],\n",
    "              [0,-1,-1,4]], dtype=float) #Definimos el tipo de datos que tendrá el array \n",
    "b=np.array([30,60,40,70], dtype=float) \n",
    "\n",
    "print(\"Resultado por Eliminación Gaussiana: \",elim_gauss(A, b))\n"
   ]
  },
  {
   "cell_type": "markdown",
   "id": "2dc4ae69",
   "metadata": {},
   "source": [
    "> **Respuesta:** EL valor de las temperaturas son $T_1= 20, T_2= 27.5, T_3= 22.5, T_4=30$"
   ]
  },
  {
   "cell_type": "markdown",
   "id": "6f9d8672",
   "metadata": {},
   "source": [
    "**5. Programe el pivoteo parcial en el algoritmo de eliminación gaussiana. Utilice este nuevo programa para resolver el ejercicio anterior. Compare los resultados.**"
   ]
  },
  {
   "cell_type": "code",
   "execution_count": 449,
   "id": "8e31235e",
   "metadata": {},
   "outputs": [
    {
     "name": "stdout",
     "output_type": "stream",
     "text": [
      "[[ 4.   -1.   -1.    0.  ]\n",
      " [-0.25  3.75 -0.25 -1.  ]\n",
      " [-1.    0.    4.   -1.  ]\n",
      " [ 0.   -1.   -1.    4.  ]] [30.  67.5 40.  70. ]\n",
      "[[ 4.   -1.   -1.    0.  ]\n",
      " [-0.25  3.75 -0.25 -1.  ]\n",
      " [-0.25 -0.25  3.75 -1.  ]\n",
      " [ 0.   -1.   -1.    4.  ]] [30.  67.5 47.5 70. ]\n",
      "[[ 4.   -1.   -1.    0.  ]\n",
      " [-0.25  3.75 -0.25 -1.  ]\n",
      " [-0.25 -0.25  3.75 -1.  ]\n",
      " [ 0.   -1.   -1.    4.  ]] [30.  67.5 47.5 70. ]\n",
      "[[ 4.         -1.         -1.          0.        ]\n",
      " [-0.25        3.75       -0.25       -1.        ]\n",
      " [-0.25       -0.06666667  3.73333333 -1.06666667]\n",
      " [ 0.         -1.         -1.          4.        ]] [30.  67.5 52.  70. ]\n",
      "[[ 4.         -1.         -1.          0.        ]\n",
      " [-0.25        3.75       -0.25       -1.        ]\n",
      " [-0.25       -0.06666667  3.73333333 -1.06666667]\n",
      " [ 0.         -0.26666667 -1.06666667  3.73333333]] [30.  67.5 52.  88. ]\n",
      "[[ 4.         -1.         -1.          0.        ]\n",
      " [-0.25        3.75       -0.25       -1.        ]\n",
      " [-0.25       -0.06666667  3.73333333 -1.06666667]\n",
      " [ 0.         -0.26666667 -0.28571429  3.42857143]] [ 30.          67.5         52.         102.85714286]\n",
      "Resultado por pivoteo parcial y sustitución regresiva:  [20.  27.5 22.5 30. ]\n"
     ]
    }
   ],
   "source": [
    "import numpy as np\n",
    "\n",
    "def pivoteo_parcial(A, b):\n",
    "    #Función para medir el número de incógnitas\n",
    "    N = len(A)\n",
    "    #Definimos con ceros\n",
    "    x = np.zeros(N)\n",
    "    for k in range(N-1):\n",
    "        #Usaremos a P como el pivote y k quien indica el k=ésimo índice de la diagonal\n",
    "        P = abs(A[k:,k]).argmax() + k\n",
    "        #Cambiamos filas \n",
    "        if P != k:\n",
    "            A[[k,P]] = A[[P, k]]\n",
    "            b[[k,P]] = b[[P, k]]\n",
    "        for i in range(k+1, N):\n",
    "            mult = A[i][k]/A[k][k]\n",
    "            A[i][k] = mult\n",
    "            for j in range(k + 1, N):\n",
    "                A[i][j] = A[i][j] - mult*A[k][j]\n",
    "            #Calculamos la solución en b\n",
    "            b[i] = b[i] - mult*b[k]\n",
    "            print(A,b)\n",
    "    #Utilizamos un ciclo for en reversa para el método de sustitución regresiva\n",
    "    for k in reversed(range(N)):\n",
    "        x[k] = (b[k] - sum(A[k, k+1:]*x[k+1:]))/A[k, k]\n",
    "    return x\n",
    "\n",
    "A= np.array([[4,-1,-1,0],\n",
    "              [-1,4,0,-1],\n",
    "              [-1,0,4,-1],\n",
    "              [0,-1,-1,4]], dtype=float) #Definimos el tipo de datos que tendrá el array \n",
    "b=np.array([30,60,40,70], dtype=float) \n",
    "\n",
    "\n",
    "print(\"Resultado por pivoteo parcial y sustitución regresiva: \",pivoteo_parcial(A,b))"
   ]
  },
  {
   "cell_type": "markdown",
   "id": "e1259b40",
   "metadata": {},
   "source": [
    "**- Comparación de resultados:**\n",
    "\n",
    "Podemos observar que tanto el método de eliminación gaussiana y el método de eliminación gaussiana con pivoteo parcial arrojaron los mismos valores en las temperaturas e hicieron uso del método de sustitución regresiva en el programa para así encontrar el vector solución, su diferencia está en el pivote lo cual lo hace más complejo al método con pivoteo parcial y el de eliminación gaussiana es un método más simple pues forma una matriz triangular superior y resuelve la matriz resultante, en cambio en el pivoteo parcial se busca que el mayor de los coeficientes tome el lugar de pivote y luego se procede con el método de sustitución regresiva aunque, el pivoteo parcial, como observamos, al poner el tipo de dato como float, es más exacto."
   ]
  }
 ],
 "metadata": {
  "kernelspec": {
   "display_name": "Python 3",
   "language": "python",
   "name": "python3"
  },
  "language_info": {
   "codemirror_mode": {
    "name": "ipython",
    "version": 3
   },
   "file_extension": ".py",
   "mimetype": "text/x-python",
   "name": "python",
   "nbconvert_exporter": "python",
   "pygments_lexer": "ipython3",
   "version": "3.8.8"
  }
 },
 "nbformat": 4,
 "nbformat_minor": 5
}
